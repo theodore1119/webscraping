{
 "cells": [
  {
   "cell_type": "code",
   "execution_count": 1,
   "id": "f7632b17-14fe-4dcf-998d-81267f186166",
   "metadata": {},
   "outputs": [],
   "source": [
    "# Import selenium\n",
    "from selenium import webdriver\n",
    "from selenium.webdriver.support.ui import Select\n",
    "from selenium.webdriver.common.by import By\n",
    "from selenium.webdriver.common.keys import Keys\n",
    "import pandas as pd\n",
    "import time"
   ]
  },
  {
   "cell_type": "code",
   "execution_count": 2,
   "id": "0722c4cc-e300-4b4e-9de8-db35c26f6a3d",
   "metadata": {},
   "outputs": [],
   "source": [
    "# Import webdriver for webscraping U.S. congress website\n",
    "website = 'https://www.congress.gov'\n",
    "driver = webdriver.Chrome()\n",
    "driver.get(website)"
   ]
  },
  {
   "cell_type": "code",
   "execution_count": 3,
   "id": "0ec878c4-798a-4f45-a824-b55cf0e22e92",
   "metadata": {},
   "outputs": [],
   "source": [
    "# Select Hong Kong or Hongkonger or Hongkongers as keywords in the search\n",
    "text_box = driver.find_element(By.XPATH, '//input[@class=\"locsuggest\"]')\n",
    "text_box.send_keys(\"Hong Kong or Hongkonger or Hongkongers\")\n",
    "submit_button = driver.find_element(By.XPATH, '//button[@id=\"search-submit\"]')\n",
    "submit_button.click()"
   ]
  },
  {
   "cell_type": "code",
   "execution_count": 4,
   "id": "c5eb1eaa-070f-4a88-b353-b339ca927070",
   "metadata": {},
   "outputs": [],
   "source": [
    "# Uncheck all options for \"Limit Your Search\" \n",
    "time.sleep(10)\n",
    "uncheck_1 = driver.find_element(By.XPATH, '//a[@id=\"checkAllsource\"]')\n",
    "uncheck_1.click()"
   ]
  },
  {
   "cell_type": "code",
   "execution_count": 5,
   "id": "e503afb6-137a-408b-bb67-c4d27db11de6",
   "metadata": {},
   "outputs": [],
   "source": [
    "# Check \"Congressional Record\" option\n",
    "time.sleep(10)\n",
    "record_box1 = driver.find_element(By.XPATH, '//input[@id=\"facetItemsourceCongressional_Recordinput\"]')\n",
    "driver.execute_script(\"arguments[0].click();\", record_box1)"
   ]
  },
  {
   "cell_type": "code",
   "execution_count": 6,
   "id": "73532151-cdd7-4c6c-ac2c-3d6a5b513e5c",
   "metadata": {},
   "outputs": [],
   "source": [
    "# Check \"Committee Meetings\" option\n",
    "time.sleep(10)\n",
    "record_box2 = driver.find_element(By.XPATH, '//input[@id=\"facetItemsourceCommittee_Meetingsinput\"]')\n",
    "driver.execute_script(\"arguments[0].click();\", record_box2)"
   ]
  },
  {
   "cell_type": "code",
   "execution_count": 7,
   "id": "e2a64147-348d-43f4-93ea-f494649cd704",
   "metadata": {},
   "outputs": [],
   "source": [
    "# Check \"116 (2019-2020)\" option for \"Congress\"\n",
    "time.sleep(10)\n",
    "congress_box1 = driver.find_element(By.XPATH, '//input[@id=\"facetItemcongress116__2019-2020_input\"]')\n",
    "driver.execute_script(\"arguments[0].click();\", congress_box1)"
   ]
  },
  {
   "cell_type": "code",
   "execution_count": 8,
   "id": "4a4abc1d-8f4e-4f57-8049-23f328b1784c",
   "metadata": {},
   "outputs": [],
   "source": [
    "# Uncheck \"119 (2025-2026)\" option\n",
    "time.sleep(10)\n",
    "congress_box2 = driver.find_element(By.XPATH, '//input[@id=\"facetItemcongress119__2025-2026_input\"]')\n",
    "driver.execute_script(\"arguments[0].click();\", congress_box2)"
   ]
  },
  {
   "cell_type": "code",
   "execution_count": 9,
   "id": "3fccbd04-b62c-457f-a731-d4a4c245201b",
   "metadata": {},
   "outputs": [],
   "source": [
    "# Uncheck \"118 (2023-2024)\" option\n",
    "time.sleep(10)\n",
    "congress_box3 = driver.find_element(By.XPATH, '//input[@id=\"facetItemcongress118__2023-2024_input\"]')\n",
    "driver.execute_script(\"arguments[0].click();\", congress_box3)"
   ]
  },
  {
   "cell_type": "code",
   "execution_count": 10,
   "id": "3976ff60-db7f-4896-b043-6ae2f289bb6c",
   "metadata": {},
   "outputs": [],
   "source": [
    "# Select \"Latest Action - Oldest to Newest\" option from the dropdown box\n",
    "time.sleep(10)\n",
    "dropdown = Select(driver.find_element(By.XPATH, '//select[@id=\"pageSort\"]'))\n",
    "dropdown.select_by_visible_text('Latest Action - Oldest to Newest')"
   ]
  },
  {
   "cell_type": "code",
   "execution_count": 11,
   "id": "2a6da998-55ae-46fc-95eb-dc50a35d1288",
   "metadata": {},
   "outputs": [],
   "source": [
    "# Locate the pages buttons\n",
    "pagination = driver.find_elements(By.XPATH, '//div[@class=\"pagination\"]')[1]\n",
    "pages = pagination.find_elements(By.TAG_NAME, 'a')"
   ]
  },
  {
   "cell_type": "code",
   "execution_count": 12,
   "id": "d7c4799e-dbd3-4ade-941e-7548293169a9",
   "metadata": {},
   "outputs": [],
   "source": [
    "current_page = 1\n",
    "last_page = int(pages[3].text) + 1\n",
    "href_list = []"
   ]
  },
  {
   "cell_type": "code",
   "execution_count": 13,
   "id": "7e5e4bef-689c-4b33-bd94-1c78a3899be5",
   "metadata": {},
   "outputs": [],
   "source": [
    "# Obtain a list of hyperlinks for relevant congressional records and committee meetings\n",
    "while current_page <= last_page:\n",
    "    time.sleep(10)\n",
    "    box = driver.find_element(By.XPATH, '//div[@id=\"main\"]')\n",
    "    meetings = box.find_elements(By.XPATH, '//span[@class=\"result-heading congressional-record-heading\" or @class=\"result-heading\"]')\n",
    "    for meeting in meetings:\n",
    "        href_list.append(meeting.find_element(By.TAG_NAME, 'a').get_attribute('href'))\n",
    "\n",
    "    current_page = current_page + 1\n",
    "\n",
    "    try:\n",
    "        next_page = driver.find_element(By.XPATH, '//a[@class=\"next\"]')\n",
    "        next_page.click()\n",
    "    except:\n",
    "        pass\n",
    "\n",
    "driver.quit()"
   ]
  },
  {
   "cell_type": "code",
   "execution_count": 14,
   "id": "16ebae5e-4968-44df-ab78-e7bfb3d98140",
   "metadata": {},
   "outputs": [],
   "source": [
    "# Transform to a unique list of hyperlinks\n",
    "def get_unique_elements(input_list):\n",
    "    seen = set()\n",
    "    unique_list = []\n",
    "    for item in input_list:\n",
    "        if item not in seen:\n",
    "            unique_list.append(item)\n",
    "            seen.add(item)\n",
    "    return unique_list\n",
    "\n",
    "unique_list = get_unique_elements(href_list)"
   ]
  },
  {
   "cell_type": "code",
   "execution_count": 15,
   "id": "1246a9f1-49c8-409d-8074-40e1bbe8b7e3",
   "metadata": {},
   "outputs": [
    {
     "name": "stdout",
     "output_type": "stream",
     "text": [
      "300\n"
     ]
    }
   ],
   "source": [
    "# There are 501 hyperlinks in the unique list\n",
    "print(len(unique_list))"
   ]
  },
  {
   "cell_type": "code",
   "execution_count": null,
   "id": "21149ead-4fc6-4775-9b1c-fb828da08b20",
   "metadata": {},
   "outputs": [],
   "source": [
    "# Extract txt files for each transcript\n",
    "number = 0\n",
    "for link in unique_list:\n",
    "    time.sleep(3)\n",
    "    driver = webdriver.Chrome()\n",
    "    driver.get(link)\n",
    "    number = number + 1\n",
    "    transcript = driver.find_element(By.TAG_NAME, 'pre').text\n",
    "    with open(f\"transcript_{number}.txt\", \"w\") as file:\n",
    "        file.write(transcript)\n",
    "    driver.quit()"
   ]
  },
  {
   "cell_type": "code",
   "execution_count": null,
   "id": "d1c12872-581e-44de-825d-1e660f80761e",
   "metadata": {},
   "outputs": [],
   "source": []
  }
 ],
 "metadata": {
  "kernelspec": {
   "display_name": "Python 3 (ipykernel)",
   "language": "python",
   "name": "python3"
  },
  "language_info": {
   "codemirror_mode": {
    "name": "ipython",
    "version": 3
   },
   "file_extension": ".py",
   "mimetype": "text/x-python",
   "name": "python",
   "nbconvert_exporter": "python",
   "pygments_lexer": "ipython3",
   "version": "3.12.3"
  }
 },
 "nbformat": 4,
 "nbformat_minor": 5
}
